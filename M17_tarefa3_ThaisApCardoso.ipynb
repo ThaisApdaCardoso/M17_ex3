{
  "cells": [
    {
      "cell_type": "markdown",
      "metadata": {
        "id": "Xb910xXMHnox"
      },
      "source": [
        "# Árvores II - Tarefa 3"
      ]
    },
    {
      "cell_type": "markdown",
      "metadata": {
        "id": "Nyjr4-atHnoy"
      },
      "source": [
        "### 1. Carregar as bases\n",
        "\n",
        "Vamos utilizar nesta tarefa as bases de reconhecimento de atividade humana através do celular. Carregue novamente as bases salvas na tarefa I."
      ]
    },
    {
      "cell_type": "code",
      "execution_count": 9,
      "metadata": {
        "id": "--zEbuHZHno0"
      },
      "outputs": [],
      "source": [
        "import pandas as pd\n",
        "import seaborn as sns\n",
        "import matplotlib.pyplot as plt\n",
        "import numpy as np\n",
        "from sklearn.tree import DecisionTreeClassifier\n",
        "from sklearn.model_selection import train_test_split\n",
        "from sklearn.metrics import confusion_matrix, ConfusionMatrixDisplay\n",
        "from sklearn.model_selection import GridSearchCV\n",
        "from sklearn.model_selection import cross_val_score\n",
        "from sklearn.metrics import accuracy_score"
      ]
    },
    {
      "cell_type": "code",
      "execution_count": 5,
      "metadata": {
        "colab": {
          "base_uri": "https://localhost:8080/"
        },
        "id": "08NTv_u3Hno2",
        "outputId": "cfc02f32-e30a-4772-b07c-9984a06611eb"
      },
      "outputs": [
        {
          "output_type": "stream",
          "name": "stderr",
          "text": [
            "<ipython-input-5-41ad172c99cb>:2: FutureWarning: The 'delim_whitespace' keyword in pd.read_csv is deprecated and will be removed in a future version. Use ``sep='\\s+'`` instead\n",
            "  features = pd.read_csv(\"features.txt\", header=None, delim_whitespace=True, names=[\"index\", \"feature\"])\n",
            "<ipython-input-5-41ad172c99cb>:10: FutureWarning: The 'delim_whitespace' keyword in pd.read_csv is deprecated and will be removed in a future version. Use ``sep='\\s+'`` instead\n",
            "  X_train = pd.read_csv(\"X_train.txt\", header=None, delim_whitespace=True, names=features_list)\n",
            "<ipython-input-5-41ad172c99cb>:15: FutureWarning: The 'delim_whitespace' keyword in pd.read_csv is deprecated and will be removed in a future version. Use ``sep='\\s+'`` instead\n",
            "  X_test = pd.read_csv(\"X_test.txt\", header=None, delim_whitespace=True, names=features_list)\n"
          ]
        },
        {
          "output_type": "stream",
          "name": "stdout",
          "text": [
            "X_train shape: (7352, 561)\n",
            "y_train shape: (7352, 1)\n",
            "X_test shape: (2947, 561)\n",
            "y_test shape: (2947, 1)\n"
          ]
        }
      ],
      "source": [
        "# Carregar as features\n",
        "features = pd.read_csv(\"features.txt\", header=None, delim_whitespace=True, names=[\"index\", \"feature\"])\n",
        "features_list = features[\"feature\"].tolist()\n",
        "\n",
        "# Resolver duplicidade nos nomes das features\n",
        "unique_features = pd.Series(features_list).duplicated(keep=False)\n",
        "features_list = [f\"{name}_{i}\" if is_dup else name for i, (name, is_dup) in enumerate(zip(features_list, unique_features))]\n",
        "\n",
        "# Carregar as bases de treino\n",
        "X_train = pd.read_csv(\"X_train.txt\", header=None, delim_whitespace=True, names=features_list)\n",
        "y_train = pd.read_csv(\"y_train.txt\", header=None, names=[\"activity\"])\n",
        "subject_train = pd.read_csv(\"subject_train.txt\", header=None, names=[\"subject\"])\n",
        "\n",
        "# Carregar as bases de teste\n",
        "X_test = pd.read_csv(\"X_test.txt\", header=None, delim_whitespace=True, names=features_list)\n",
        "y_test = pd.read_csv(\"y_test.txt\", header=None, names=[\"activity\"])\n",
        "subject_test = pd.read_csv(\"subject_test.txt\", header=None, names=[\"subject\"])\n",
        "\n",
        "# Verificar os dados carregados\n",
        "print(\"X_train shape:\", X_train.shape)\n",
        "print(\"y_train shape:\", y_train.shape)\n",
        "print(\"X_test shape:\", X_test.shape)\n",
        "print(\"y_test shape:\", y_test.shape)"
      ]
    },
    {
      "cell_type": "markdown",
      "metadata": {
        "id": "P2fYcR85Hno2"
      },
      "source": [
        "### 2. Calcule os ```ccp_alphas```.\n",
        "\n",
        "Vamos seguir uma lógica bem em linha com o que já estamso acostumados, com as seguintes orientações:\n",
        "\n",
        "- Utilizar treinamento e teste conforme já vieram definidos originalmente\n",
        "- Por pragmatismo, utilizar ```min_samples_leaf=20```\n",
        "- Utilize as mesmas \"3 melhores variáveis\" identificadas no exercício anterior."
      ]
    },
    {
      "cell_type": "code",
      "execution_count": 6,
      "metadata": {
        "colab": {
          "base_uri": "https://localhost:8080/"
        },
        "id": "BBr4Rj7BHno3",
        "outputId": "6c6a0840-e5ef-4f69-ad69-5045412aabaa"
      },
      "outputs": [
        {
          "output_type": "stream",
          "name": "stdout",
          "text": [
            "CCP Alphas únicos e positivos:\n",
            "[6.966745401948242e-06, 1.1276657087321029e-05, 2.0255406544851008e-05, 2.7203482045701916e-05, 2.849888595264009e-05, 4.633972458819549e-05, 5.3500455226294756e-05, 5.8440113641952934e-05, 6.178080171551385e-05, 6.598661121074139e-05, 6.737688882742601e-05, 7.028510488286564e-05, 7.741681450384227e-05, 7.995855510849019e-05, 8.01474017245638e-05, 8.282224835774233e-05, 8.293424392620628e-05, 8.496671989599103e-05, 9.214745108744463e-05, 9.635986956873458e-05, 0.00010295301538434248, 0.00010428001450852329, 0.00010572262340488754, 0.00010621112588831121, 0.00011010933208974519, 0.0001205803606040784, 0.00012418671998269768, 0.00013205365672453286, 0.00013523397661567398, 0.00013601741022850914, 0.00014196313819217314, 0.00014635162716725852, 0.00014735219441421726, 0.0001494927703823909, 0.0001504827538559867, 0.00015196814637990531, 0.00015571346097719568, 0.0001605115464890722, 0.00016062899036919714, 0.0001642391471183167, 0.00016732300464618148, 0.00017434266772072427, 0.0001749079612407868, 0.00017557802954333655, 0.00017898587315472603, 0.00018143930419617024, 0.00018599670424669298, 0.000187333069541992, 0.00018906598037098836, 0.00018979660165731934, 0.0001965264085131216, 0.00019675921537701258, 0.00020148109103495203, 0.00020191905014727593, 0.00020286677471008027, 0.00020311933260790723, 0.00020337841338929474, 0.00020381770713429536, 0.00020420807843337047, 0.00020545916743156412, 0.00020588825845898728, 0.00020608794889349653, 0.00020761755314266037, 0.00020811453034266965, 0.0002108269858541894, 0.00021196046427276061, 0.00021747779775700866, 0.0002196024572470156, 0.00022100854461055107, 0.00022433827058219308, 0.00022682679746994627, 0.00022759410900447842, 0.00022938434645563763, 0.00023360219545331268, 0.0002347367158915606, 0.00023944476959803082, 0.00024332898291528748, 0.00024370890992571684, 0.00024451865470964153, 0.00024694295209701754, 0.00024793247731099213, 0.00025065087915083703, 0.0002512579674714497, 0.00025220377748869875, 0.0002527481893897397, 0.0002528851771844533, 0.0002579410624330043, 0.000261784704614439, 0.00026205893334044564, 0.00026242969489705115, 0.0002624959371422919, 0.0002676304471734281, 0.0002704886932132517, 0.0002718756940996714, 0.00027257457208490894, 0.00027340873369164926, 0.0002735761833388868, 0.0002765647552689307, 0.0002769809081016924, 0.00027721510107559313, 0.0002830372948718239, 0.0002837648361413451, 0.0002844373050874677, 0.00028469877762587244, 0.00028566258107054054, 0.00028798031892427866, 0.0002925480712130425, 0.00029343782994776645, 0.0002998700177694394, 0.00030572297808887077, 0.00031317172009691363, 0.00031352658126690067, 0.00031653575467183604, 0.0003230549122823327, 0.00032460947368368864, 0.0003267876210851445, 0.000329146879290405, 0.0003350623014237771, 0.00034067033391334094, 0.0003433675092034457, 0.0003516689452489237, 0.00035869474235846, 0.0003627130939426893, 0.00036343675589827016, 0.00036355986671961156, 0.00037356444558905855, 0.00037546118424752403, 0.0003843341877634108, 0.00039449659200628366, 0.0003963708882518772, 0.000399220299793104, 0.00041922712009965363, 0.0004194347245065535, 0.0004224456074292853, 0.00042504285168053213, 0.00042986275325560447, 0.00043096203775666586, 0.0004316297166888439, 0.0004389839483658325, 0.0004494670133357165, 0.00045152841197691404, 0.0004520562667542417, 0.0004521812706079764, 0.0004532676302384242, 0.00045940143904311167, 0.00046307909893249233, 0.00046453325394716326, 0.00047189057811034343, 0.00047461627784578216, 0.00048384996698380874, 0.00048720888182458323, 0.0004902221919932774, 0.0004981073856145553, 0.000503828242951046, 0.0005112202485292351, 0.0005117949783562635, 0.000513442162371083, 0.0005153018187537654, 0.0005166177383629997, 0.0005252368321589738, 0.000525732428971918, 0.0005440696409140366, 0.0005464013679465276, 0.0005496566976436398, 0.0005513148483442627, 0.0005562865520291078, 0.0005635959853873967, 0.0005772736720918766, 0.0005832731672844108, 0.00061543524669367, 0.0006378833806744569, 0.0006673920928545497, 0.0006813996615529921, 0.0006941564527870678, 0.0006984471248092129, 0.0007020507904621064, 0.0007039298761542432, 0.0007258066492551764, 0.0007278992317077196, 0.0007307808962765637, 0.0007537358191533061, 0.0007594305404425095, 0.0007594924052035431, 0.0008023552894687704, 0.0008364541453705666, 0.0008649503905874337, 0.0008873101568966715, 0.0008877346065215286, 0.0009019364138872429, 0.0009075692497005922, 0.0009293765604794606, 0.000992557877640774, 0.0010103645224490022, 0.0010179525313936018, 0.001019497716190261, 0.0011324084281097747, 0.0011895633279092079, 0.0011915301689705577, 0.0011916445946834678, 0.0011931198191755046, 0.0012419763785593563, 0.0013303100002389143, 0.0013815020333824007, 0.0013838132123130432, 0.0016058653506108994, 0.0016523069472359699, 0.001728633475097014, 0.0017639483015495366, 0.0017643665953254242, 0.0019030925093424904, 0.0021876558689947756, 0.0022716182792672616, 0.0024070945610311957, 0.0025109939671361225, 0.002554722739379893, 0.0026678897926028858, 0.002726893343537533, 0.0028764717667856265, 0.002882252089635537, 0.0029035238969861467, 0.0031300187975540107, 0.0032082177907705733, 0.0032510228499812444, 0.004061910870731336, 0.004400394494202736, 0.004730061257202711, 0.0052178993990321665, 0.005648422506032036, 0.006245479007801674, 0.007399290734061842, 0.010539508224667121, 0.03459537690171932]\n",
            "CPU times: user 88.8 ms, sys: 1.55 ms, total: 90.3 ms\n",
            "Wall time: 117 ms\n"
          ]
        }
      ],
      "source": [
        "%%time\n",
        "\n",
        "# Selecionar as 3 melhores variáveis identificadas anteriormente\n",
        "top_3_features = [\"tBodyAcc-mean()-X\", \"tBodyAcc-mean()-Y\", \"tBodyAcc-mean()-Z\"]\n",
        "\n",
        "# Criar uma árvore de decisão com min_samples_leaf=20\n",
        "tree = DecisionTreeClassifier(random_state=42, min_samples_leaf=20)\n",
        "\n",
        "# Ajustar a árvore com as variáveis selecionadas e as bases originais\n",
        "tree.fit(X_train[top_3_features], y_train)\n",
        "\n",
        "# Calcular os ccp_alphas e os valores correspondentes às árvores\n",
        "path = tree.cost_complexity_pruning_path(X_train[top_3_features], y_train)\n",
        "ccp_alphas = path.ccp_alphas\n",
        "\n",
        "# Filtrar valores positivos e únicos\n",
        "ccp_alphas = sorted(set(alpha for alpha in ccp_alphas if alpha > 0))\n",
        "\n",
        "# Exibir os resultados\n",
        "print(\"CCP Alphas únicos e positivos:\")\n",
        "print(ccp_alphas)"
      ]
    },
    {
      "cell_type": "markdown",
      "metadata": {
        "id": "s_Nrh4-fHno4"
      },
      "source": [
        "### 3. *Grid Search*\n",
        "\n",
        "Vou deixar especificações iniciais mínimas, que visam limitar o tempo de máquina, pois um procedimento desses pode demorar muito tempo dependendo da especificação. Mas conforme você for ficando confortável com o tempo consumido pelo procedimento, pode fazer um algoritmo mais exaustivo, por exemplo, avaliando mais valores de ```ccp_alpha```.\n",
        "\n",
        "- Meça o tempo\n",
        "- Utilize a base de treinamento\n",
        "- Utilize um *cross validation* do tipo *k-fold*, especifique k=10\n",
        "- Você pode ler 1 a cada ```k``` valores para uma melhor varredura utilizando, por exemplo, ```ccp_alpha[::10]```\n",
        "- Não se esqueça de limitar o número de variáveis"
      ]
    },
    {
      "cell_type": "code",
      "execution_count": 8,
      "metadata": {
        "colab": {
          "base_uri": "https://localhost:8080/"
        },
        "id": "SbOUcS98Hno5",
        "outputId": "e203e03a-6fc8-4c43-f687-3f40d1ef13e1"
      },
      "outputs": [
        {
          "output_type": "stream",
          "name": "stdout",
          "text": [
            "Resultados da Grid Search:\n",
            "ccp_alpha: 0.00001 | Média: 0.4452 | Desvio Padrão: 0.0339\n",
            "ccp_alpha: 0.00007 | Média: 0.4452 | Desvio Padrão: 0.0341\n",
            "ccp_alpha: 0.00010 | Média: 0.4444 | Desvio Padrão: 0.0344\n",
            "ccp_alpha: 0.00014 | Média: 0.4436 | Desvio Padrão: 0.0341\n",
            "ccp_alpha: 0.00017 | Média: 0.4429 | Desvio Padrão: 0.0340\n",
            "ccp_alpha: 0.00020 | Média: 0.4444 | Desvio Padrão: 0.0323\n",
            "ccp_alpha: 0.00021 | Média: 0.4452 | Desvio Padrão: 0.0326\n",
            "ccp_alpha: 0.00023 | Média: 0.4437 | Desvio Padrão: 0.0310\n",
            "ccp_alpha: 0.00025 | Média: 0.4449 | Desvio Padrão: 0.0320\n",
            "ccp_alpha: 0.00026 | Média: 0.4451 | Desvio Padrão: 0.0331\n",
            "ccp_alpha: 0.00028 | Média: 0.4468 | Desvio Padrão: 0.0314\n",
            "ccp_alpha: 0.00031 | Média: 0.4470 | Desvio Padrão: 0.0323\n",
            "ccp_alpha: 0.00035 | Média: 0.4487 | Desvio Padrão: 0.0301\n",
            "ccp_alpha: 0.00040 | Média: 0.4516 | Desvio Padrão: 0.0283\n",
            "ccp_alpha: 0.00045 | Média: 0.4523 | Desvio Padrão: 0.0292\n",
            "ccp_alpha: 0.00049 | Média: 0.4563 | Desvio Padrão: 0.0283\n",
            "ccp_alpha: 0.00053 | Média: 0.4519 | Desvio Padrão: 0.0277\n",
            "ccp_alpha: 0.00064 | Média: 0.4489 | Desvio Padrão: 0.0232\n",
            "ccp_alpha: 0.00075 | Média: 0.4508 | Desvio Padrão: 0.0211\n",
            "ccp_alpha: 0.00093 | Média: 0.4490 | Desvio Padrão: 0.0222\n",
            "ccp_alpha: 0.00124 | Média: 0.4377 | Desvio Padrão: 0.0249\n",
            "ccp_alpha: 0.00219 | Média: 0.4124 | Desvio Padrão: 0.0231\n",
            "ccp_alpha: 0.00313 | Média: 0.4037 | Desvio Padrão: 0.0245\n",
            "ccp_alpha: 0.01054 | Média: 0.3149 | Desvio Padrão: 0.0206\n",
            "\n",
            "Melhor ccp_alpha encontrado:\n",
            "ccp_alpha: 0.00049 | Score: 0.4563\n",
            "CPU times: user 10.3 s, sys: 0 ns, total: 10.3 s\n",
            "Wall time: 10.4 s\n"
          ]
        }
      ],
      "source": [
        "%%time\n",
        "\n",
        "# Selecionar as variáveis mais importantes\n",
        "top_3_features = [\"tBodyAcc-mean()-X\", \"tBodyAcc-mean()-Y\", \"tBodyAcc-mean()-Z\"]\n",
        "\n",
        "# Definir os valores de ccp_alpha a serem testados\n",
        "ccp_alphas_reduzidos = ccp_alphas[::10]\n",
        "\n",
        "# Lista para armazenar os resultados\n",
        "scores_mean = []\n",
        "scores_std = []\n",
        "\n",
        "# Cross-validation com k-fold\n",
        "k = 10\n",
        "\n",
        "# Iterar pelos valores reduzidos de ccp_alpha\n",
        "for alpha in ccp_alphas_reduzidos:\n",
        "    # Criar a árvore com o ccp_alpha atual\n",
        "    tree = DecisionTreeClassifier(random_state=42, ccp_alpha=alpha, min_samples_leaf=20)\n",
        "\n",
        "    # Avaliar o modelo com validação cruzada\n",
        "    scores = cross_val_score(tree, X_train[top_3_features], y_train, cv=k, scoring='accuracy')\n",
        "\n",
        "    # Armazenar a média e o desvio padrão dos scores\n",
        "    scores_mean.append(scores.mean())\n",
        "    scores_std.append(scores.std())\n",
        "\n",
        "# Encontrar o melhor ccp_alpha\n",
        "melhor_alpha_idx = np.argmax(scores_mean)\n",
        "melhor_alpha = ccp_alphas_reduzidos[melhor_alpha_idx]\n",
        "melhor_score = scores_mean[melhor_alpha_idx]\n",
        "\n",
        "# Exibir os resultados\n",
        "print(\"Resultados da Grid Search:\")\n",
        "for i, alpha in enumerate(ccp_alphas_reduzidos):\n",
        "    print(f\"ccp_alpha: {alpha:.5f} | Média: {scores_mean[i]:.4f} | Desvio Padrão: {scores_std[i]:.4f}\")\n",
        "\n",
        "print(\"\\nMelhor ccp_alpha encontrado:\")\n",
        "print(f\"ccp_alpha: {melhor_alpha:.5f} | Score: {melhor_score:.4f}\")"
      ]
    },
    {
      "cell_type": "markdown",
      "metadata": {
        "id": "KkJbnT8PHno5"
      },
      "source": [
        "### 4. Avaliando a árvore\n",
        "\n",
        "- Obtenha a árvore na melhor configuração treinada em toda a base de treino\n",
        "- Calcule a acurácia dessa árvore na base de testes\n",
        "- Visualize a matriz de confusão"
      ]
    },
    {
      "cell_type": "code",
      "execution_count": 10,
      "metadata": {
        "colab": {
          "base_uri": "https://localhost:8080/",
          "height": 623
        },
        "id": "isgnb4dkHno6",
        "outputId": "f7258100-c32c-46b1-8828-a029e945e7eb"
      },
      "outputs": [
        {
          "output_type": "stream",
          "name": "stdout",
          "text": [
            "Acurácia na base de testes: 0.4384\n",
            "\n",
            "Matriz de Confusão:\n",
            "[[287  56  36  30  50  37]\n",
            " [189 124  80  11  43  24]\n",
            " [164  72 115  17  34  18]\n",
            " [ 58  28   4 123 160 118]\n",
            " [ 61  24   8  73 315  51]\n",
            " [ 68  12  25  49  55 328]]\n"
          ]
        },
        {
          "output_type": "execute_result",
          "data": {
            "text/plain": [
              "<sklearn.metrics._plot.confusion_matrix.ConfusionMatrixDisplay at 0x7cc1b29ce210>"
            ]
          },
          "metadata": {},
          "execution_count": 10
        },
        {
          "output_type": "display_data",
          "data": {
            "text/plain": [
              "<Figure size 640x480 with 2 Axes>"
            ],
            "image/png": "[encoded data removed]"
          },
          "metadata": {}
        }
      ],
      "source": [
        "# Treinar a árvore com o melhor ccp_alpha na base de treinamento completa\n",
        "melhor_arvore = DecisionTreeClassifier(random_state=42, ccp_alpha=melhor_alpha, min_samples_leaf=20)\n",
        "melhor_arvore.fit(X_train[top_3_features], y_train)\n",
        "\n",
        "# Fazer predições na base de teste\n",
        "y_pred_test = melhor_arvore.predict(X_test[top_3_features])\n",
        "\n",
        "# Calcular a acurácia na base de testes\n",
        "acuracia_teste = accuracy_score(y_test, y_pred_test)\n",
        "print(f\"Acurácia na base de testes: {acuracia_teste:.4f}\")\n",
        "\n",
        "# Matriz de confusão\n",
        "matriz_confusao = confusion_matrix(y_test, y_pred_test)\n",
        "print(\"\\nMatriz de Confusão:\")\n",
        "print(matriz_confusao)\n",
        "\n",
        "# Visualizar a matriz de confusão\n",
        "ConfusionMatrixDisplay(confusion_matrix=matriz_confusao, display_labels=melhor_arvore.classes_).plot(cmap=\"Blues\")"
      ]
    },
    {
      "cell_type": "markdown",
      "metadata": {
        "id": "RprYmcB2Hno7"
      },
      "source": [
        "### 5. Melhorando a árvore\n",
        "\n",
        "A melhor forma de se melhorar um algoritmo é colocando nele novas variáveis que agreguem valor. Podemos usar a força-bruta e ir colocando variáveis aleatoriamente - ou colocar todas e deixar rodando por um bom tempo - ou utilizar uma lógica eficiente e fazer uma seleção de variáveis.\n",
        "\n",
        "- Observe que há classes mais fáceis e mais difíceis de se identificar\n",
        "- Crie uma variável binária para uma das classes de maior erro\n",
        "- Fala uma árvore de classificação bem simples para esta variável:\n",
        "    - utilize ```mean_samples_leaf=20```\n",
        "    - utilize ```max_depth=4```\n",
        "    - coloque todas as variáveis\n",
        "- Observe a importância das variáveis, e selecione as 3 com maior importância\n",
        "- Rode novamente o algoritmo acima com as 3 novas variáveis e avalie a acurácia"
      ]
    },
    {
      "cell_type": "code",
      "source": [
        "erros_por_classe = matriz_confusao.sum(axis=1) - np.diag(matriz_confusao)\n",
        "print(\"Erros por classe:\", erros_por_classe)"
      ],
      "metadata": {
        "colab": {
          "base_uri": "https://localhost:8080/"
        },
        "id": "tM5vOl-9UacP",
        "outputId": "5faf3d29-9f24-49be-a5ed-128972418161"
      },
      "execution_count": 11,
      "outputs": [
        {
          "output_type": "stream",
          "name": "stdout",
          "text": [
            "Erros por classe: [209 347 305 368 217 209]\n"
          ]
        }
      ]
    },
    {
      "cell_type": "code",
      "source": [
        "classe_mais_dificil = np.argmax(erros_por_classe)\n",
        "print(f\"Classe com maior erro: {classe_mais_dificil}\")"
      ],
      "metadata": {
        "colab": {
          "base_uri": "https://localhost:8080/"
        },
        "id": "nBXktegMUfRo",
        "outputId": "0d47be91-979b-4d89-96c3-6bb6f5ab188a"
      },
      "execution_count": 12,
      "outputs": [
        {
          "output_type": "stream",
          "name": "stdout",
          "text": [
            "Classe com maior erro: 3\n"
          ]
        }
      ]
    },
    {
      "cell_type": "code",
      "execution_count": 13,
      "metadata": {
        "id": "vaarIFOHHno7"
      },
      "outputs": [],
      "source": [
        "# Criar uma variável binária para a classe com maior erro\n",
        "classe_mais_dificil = 3\n",
        "y_train_bin = (y_train == classe_mais_dificil).astype(int)\n",
        "y_test_bin = (y_test == classe_mais_dificil).astype(int)"
      ]
    },
    {
      "cell_type": "code",
      "source": [
        "# Treinar uma árvore simples para a classe binária\n",
        "arvore_simples = DecisionTreeClassifier(max_depth=4, min_samples_leaf=20, random_state=42)\n",
        "arvore_simples.fit(X_train, y_train_bin)\n",
        "\n",
        "# Observar a importância das variáveis\n",
        "importancias = arvore_simples.feature_importances_\n",
        "variaveis_importantes = X_train.columns[np.argsort(importancias)[-3:][::-1]]  # Top 3\n",
        "print(\"Três variáveis mais importantes:\", list(variaveis_importantes))"
      ],
      "metadata": {
        "colab": {
          "base_uri": "https://localhost:8080/"
        },
        "id": "dIzN4otvU0Lf",
        "outputId": "3e938d3c-2531-41e7-cfbb-0bb7c712db30"
      },
      "execution_count": 14,
      "outputs": [
        {
          "output_type": "stream",
          "name": "stdout",
          "text": [
            "Três variáveis mais importantes: ['tBodyAcc-max()-X', 'tBodyGyro-correlation()-Y,Z', 'fBodyAccMag-mad()']\n"
          ]
        }
      ]
    },
    {
      "cell_type": "code",
      "source": [
        "# Adicionar as novas variáveis às anteriores\n",
        "variaveis_totais = list(top_3_features) + list(variaveis_importantes)\n",
        "\n",
        "# Treinar novamente o modelo com as novas variáveis\n",
        "nova_arvore = DecisionTreeClassifier(random_state=42, ccp_alpha=melhor_alpha, min_samples_leaf=20)\n",
        "nova_arvore.fit(X_train[variaveis_totais], y_train)\n",
        "\n",
        "# Avaliar a acurácia com as novas variáveis\n",
        "y_pred_test_nova = nova_arvore.predict(X_test[variaveis_totais])\n",
        "acuracia_nova = accuracy_score(y_test, y_pred_test_nova)\n",
        "print(f\"Acurácia com as novas variáveis: {acuracia_nova:.4f}\")"
      ],
      "metadata": {
        "colab": {
          "base_uri": "https://localhost:8080/"
        },
        "id": "ytar_vGOU94-",
        "outputId": "848055d0-daee-4f68-b4ab-dad4671d5957"
      },
      "execution_count": 15,
      "outputs": [
        {
          "output_type": "stream",
          "name": "stdout",
          "text": [
            "Acurácia com as novas variáveis: 0.6169\n"
          ]
        }
      ]
    }
  ],
  "metadata": {
    "kernelspec": {
      "display_name": "Python 3",
      "language": "python",
      "name": "python3"
    },
    "language_info": {
      "codemirror_mode": {
        "name": "ipython",
        "version": 3
      },
      "file_extension": ".py",
      "mimetype": "text/x-python",
      "name": "python",
      "nbconvert_exporter": "python",
      "pygments_lexer": "ipython3",
      "version": "3.8.5"
    },
    "toc": {
      "base_numbering": 1,
      "nav_menu": {},
      "number_sections": false,
      "sideBar": true,
      "skip_h1_title": true,
      "title_cell": "Índice",
      "title_sidebar": "Conteúdo",
      "toc_cell": false,
      "toc_position": {},
      "toc_section_display": true,
      "toc_window_display": true
    },
    "varInspector": {
      "cols": {
        "lenName": 16,
        "lenType": 16,
        "lenVar": 40
      },
      "kernels_config": {
        "python": {
          "delete_cmd_postfix": "",
          "delete_cmd_prefix": "del ",
          "library": "var_list.py",
          "varRefreshCmd": "print(var_dic_list())"
        },
        "r": {
          "delete_cmd_postfix": ") ",
          "delete_cmd_prefix": "rm(",
          "library": "var_list.r",
          "varRefreshCmd": "cat(var_dic_list()) "
        }
      },
      "types_to_exclude": [
        "module",
        "function",
        "builtin_function_or_method",
        "instance",
        "_Feature"
      ],
      "window_display": false
    },
    "colab": {
      "provenance": []
    }
  },
  "nbformat": 4,
  "nbformat_minor": 0
}